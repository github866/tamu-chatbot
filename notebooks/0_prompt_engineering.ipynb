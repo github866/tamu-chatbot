{
 "cells": [
  {
   "cell_type": "code",
   "execution_count": 11,
   "metadata": {},
   "outputs": [],
   "source": [
    "import urllib.request\n",
    "import json\n",
    "import codecs"
   ]
  },
  {
   "cell_type": "markdown",
   "metadata": {},
   "source": [
    "Read event feed as JSON data format"
   ]
  },
  {
   "cell_type": "code",
   "execution_count": 3,
   "metadata": {},
   "outputs": [],
   "source": [
    "with urllib.request.urlopen(\"https://calendar.tamu.edu/live/json/events/group\") as url:\n",
    "  data = json.load(url)"
   ]
  },
  {
   "cell_type": "code",
   "execution_count": null,
   "metadata": {},
   "outputs": [],
   "source": [
    "print(\"data length:\", len(data))\n",
    "print(data[0].keys())"
   ]
  },
  {
   "cell_type": "markdown",
   "metadata": {},
   "source": [
    "Create event dictionary"
   ]
  },
  {
   "cell_type": "code",
   "execution_count": 5,
   "metadata": {},
   "outputs": [],
   "source": [
    "events = []\n",
    "for item in data:\n",
    "  event_dict = {}\n",
    "  event_dict[\"title\"] = item[\"title\"]\n",
    "  event_dict[\"group_title\"] = item[\"group_title\"]\n",
    "  event_dict[\"url\"] = item[\"url\"]\n",
    "  event_dict[\"date\"] = item[\"date\"]\n",
    "  event_dict[\"date_ts\"] = item[\"date_ts\"]\n",
    "  event_dict[\"date2_ts\"] = item[\"date2_ts\"]\n",
    "  event_dict[\"event_types\"] = item[\"event_types\"]\n",
    "  event_dict[\"event_types_audience\"] = item[\"event_types_audience\"]\n",
    "  event_dict[\"event_types_campus\"] = item[\"event_types_campus\"]\n",
    "  event_dict[\"is_online\"] = item[\"is_online\"]\n",
    "  event_dict[\"online_type\"] = item[\"online_type\"]\n",
    "  event_dict[\"has_registration\"] = item[\"has_registration\"]\n",
    "  event_dict[\"location\"] = item[\"location\"]\n",
    "  event_dict[\"location_latitude\"] = item[\"location_latitude\"]\n",
    "  event_dict[\"location_longitude\"] = item[\"location_longitude\"]\n",
    "  event_dict[\"custom_room_number\"] = item[\"custom_room_number\"] if \"custom_room_number\" in item else None\n",
    "  event_dict[\"description\"] = item[\"description\"]\n",
    "  event_dict[\"thumbnail\"] = item[\"thumbnail\"]\n",
    "  event_dict[\"thumbnail:html\"] = item[\"thumbnail:html\"] if \"thumbnail:html\" in item else None\n",
    "  events.append(event_dict)"
   ]
  },
  {
   "cell_type": "code",
   "execution_count": 6,
   "metadata": {},
   "outputs": [
    {
     "data": {
      "text/plain": [
       "{'title': 'Aggies Invent: Sandia National Laboratories',\n",
       " 'group_title': 'College of Engineering',\n",
       " 'url': 'https://calendar.tamu.edu/engineering/event/326667-aggies-invent-sandia-national-laboratories',\n",
       " 'date': 'September 14',\n",
       " 'date_ts': 1726290000,\n",
       " 'date2_ts': None,\n",
       " 'event_types': ['Training &amp; Workshops'],\n",
       " 'event_types_audience': ['Researcher', 'Students'],\n",
       " 'event_types_campus': ['Bryan-College Station'],\n",
       " 'is_online': None,\n",
       " 'online_type': None,\n",
       " 'has_registration': None,\n",
       " 'location': 'Zachry Engineering Education Complex',\n",
       " 'location_latitude': 30.621087,\n",
       " 'location_longitude': '-96.340498',\n",
       " 'custom_room_number': 415,\n",
       " 'description': '<h2 class=\"headline-group\">\\n  <span class=\"head\">Solve Problems in 48 Hours.</span>\\n</h2>',\n",
       " 'thumbnail': 'https://calendar.tamu.edu/live/image/gid/83/width/80/height/80/crop/1/src_region/0,0,3200,1801/13380_24_0341_EEP_AI_AdMan_1000x563.jpg',\n",
       " 'thumbnail:html': '<picture>\\n\\t<source type=\"image/webp\" srcset=\"https://calendar.tamu.edu/live/image/scale/2x/gid/83/width/80/height/80/crop/1/src_region/0,0,3200,1801/13380_24_0341_EEP_AI_AdMan_1000x563.rev.1724445608.webp 2x, https://calendar.tamu.edu/live/image/scale/3x/gid/83/width/80/height/80/crop/1/src_region/0,0,3200,1801/13380_24_0341_EEP_AI_AdMan_1000x563.rev.1724445608.webp 3x\" data-origin=\"responsive\"/>\\n\\t<source type=\"image/jpeg\" srcset=\"https://calendar.tamu.edu/live/image/scale/2x/gid/83/width/80/height/80/crop/1/src_region/0,0,3200,1801/13380_24_0341_EEP_AI_AdMan_1000x563.rev.1724445608.jpg 2x, https://calendar.tamu.edu/live/image/scale/3x/gid/83/width/80/height/80/crop/1/src_region/0,0,3200,1801/13380_24_0341_EEP_AI_AdMan_1000x563.rev.1724445608.jpg 3x\" data-origin=\"responsive\"/>\\n\\t<img src=\"https://calendar.tamu.edu/live/image/gid/83/width/80/height/80/crop/1/src_region/0,0,3200,1801/13380_24_0341_EEP_AI_AdMan_1000x563.rev.1724445608.jpg\" alt=\"\" width=\"80\" height=\"80\" srcset=\"https://calendar.tamu.edu/live/image/scale/2x/gid/83/width/80/height/80/crop/1/src_region/0,0,3200,1801/13380_24_0341_EEP_AI_AdMan_1000x563.rev.1724445608.jpg 2x, https://calendar.tamu.edu/live/image/scale/3x/gid/83/width/80/height/80/crop/1/src_region/0,0,3200,1801/13380_24_0341_EEP_AI_AdMan_1000x563.rev.1724445608.jpg 3x\" data-max-w=\"3200\" data-max-h=\"1801\" loading=\"lazy\" data-optimized=\"true\"/>\\n</picture>\\n'}"
      ]
     },
     "execution_count": 6,
     "metadata": {},
     "output_type": "execute_result"
    }
   ],
   "source": [
    "events[0]"
   ]
  },
  {
   "cell_type": "markdown",
   "metadata": {},
   "source": [
    "Prompt Engineering (Instead of manually can we do it dynamically?)"
   ]
  },
  {
   "cell_type": "code",
   "execution_count": 7,
   "metadata": {},
   "outputs": [
    {
     "data": {
      "text/plain": [
       "['What is Aggies Invent: Sandia National Laboratories?',\n",
       " 'Where is Aggies Invent: Sandia National Laboratories located?',\n",
       " 'Who can attend Aggies Invent: Sandia National Laboratories?']"
      ]
     },
     "execution_count": 7,
     "metadata": {},
     "output_type": "execute_result"
    }
   ],
   "source": [
    "prompts = [\n",
    "  \"What is \" + events[0][\"title\"] + \"?\",\n",
    "  \"Where is \" + events[0][\"title\"] + \" located?\",\n",
    "  \"Who can attend \" + events[0][\"title\"] + \"?\",\n",
    "]\n",
    "\n",
    "prompts"
   ]
  },
  {
   "cell_type": "markdown",
   "metadata": {},
   "source": [
    "Response Engineering"
   ]
  },
  {
   "cell_type": "code",
   "execution_count": 8,
   "metadata": {},
   "outputs": [
    {
     "data": {
      "text/plain": [
       "['Aggies Invent: Sandia National Laboratories is hosted by College of Engineering and will take place at Zachry Engineering Education Complex on September 14',\n",
       " 'The event will take place at Zachry Engineering Education Complex, Room 415, in Bryan-College Station',\n",
       " 'The event is open to Researcher and Students']"
      ]
     },
     "execution_count": 8,
     "metadata": {},
     "output_type": "execute_result"
    }
   ],
   "source": [
    "responses = [\n",
    "  events[0][\"title\"] + \" is hosted by \" + events[0][\"group_title\"] + \" and will take place at \" + events[0][\"location\"] + \" on \" + events[0][\"date\"],\n",
    "  \"The event will take place at \" + events[0][\"location\"] + \", Room \" + str(events[0][\"custom_room_number\"]) + \", in \" + events[0][\"event_types_campus\"][0],\n",
    "  \"The event is open to \" + \" and \".join(events[0][\"event_types_audience\"]),\n",
    "]\n",
    "\n",
    "responses"
   ]
  },
  {
   "cell_type": "code",
   "execution_count": 9,
   "metadata": {},
   "outputs": [],
   "source": [
    "def generate_prompts_responses(event):\n",
    "    title = event['title']\n",
    "    location = event['location']\n",
    "    room = event.get('custom_room_number', '')\n",
    "    date = event['date']\n",
    "\n",
    "    prompts_responses = []\n",
    "\n",
    "    # Where is the event located?\n",
    "    prompt = f\"Where is {title} located?\"\n",
    "    response = f\"The event will take place at {location}, Room {room}.\"\n",
    "    prompts_responses.append((prompt, response))\n",
    "\n",
    "    # When is the event happening?\n",
    "    prompt = f\"When is {title} happening?\"\n",
    "    response = f\"{title} is scheduled for {date}.\"\n",
    "    prompts_responses.append((prompt, response))\n",
    "\n",
    "    # Who can attend the event?\n",
    "    if event['event_types_audience'] is not None:\n",
    "        audience = ', '.join(event['event_types_audience'])\n",
    "        prompt = f\"Who can attend {title}?\"\n",
    "        response = f\"{title} is open to {audience}.\"\n",
    "        prompts_responses.append((prompt, response))\n",
    "\n",
    "    # What type of event is it?\n",
    "    if event['event_types'] is not None:\n",
    "        event_type = ', '.join(event['event_types'])\n",
    "        prompt = f\"What type of event is {title}?\"\n",
    "        response = f\"{title} is classified as a {event_type}.\"\n",
    "        prompts_responses.append((prompt, response))\n",
    "\n",
    "    return prompts_responses"
   ]
  },
  {
   "cell_type": "code",
   "execution_count": 10,
   "metadata": {},
   "outputs": [
    {
     "name": "stdout",
     "output_type": "stream",
     "text": [
      "Prompt: Where is Aggies Invent: Sandia National Laboratories located?\n",
      "Response: The event will take place at Zachry Engineering Education Complex, Room 415.\n",
      "\n",
      "Prompt: When is Aggies Invent: Sandia National Laboratories happening?\n",
      "Response: Aggies Invent: Sandia National Laboratories is scheduled for September 14.\n",
      "\n",
      "Prompt: Who can attend Aggies Invent: Sandia National Laboratories?\n",
      "Response: Aggies Invent: Sandia National Laboratories is open to Researcher, Students.\n",
      "\n",
      "Prompt: What type of event is Aggies Invent: Sandia National Laboratories?\n",
      "Response: Aggies Invent: Sandia National Laboratories is classified as a Training &amp; Workshops.\n",
      "\n"
     ]
    }
   ],
   "source": [
    "event_prompts_responses = generate_prompts_responses(events[0])\n",
    "\n",
    "# Print the generated prompts and responses\n",
    "for prompt, response in event_prompts_responses:\n",
    "    print(f\"Prompt: {prompt}\")\n",
    "    print(f\"Response: {response}\")\n",
    "    print()"
   ]
  },
  {
   "cell_type": "code",
   "execution_count": 13,
   "metadata": {},
   "outputs": [],
   "source": [
    "file = codecs.open('dynamic_event_data.txt', \"w\", \"utf-8\")\n",
    "for event in events:\n",
    "  prompts_responses = generate_prompts_responses(event)\n",
    "  for prompt, response in prompts_responses:\n",
    "    file.write(f\"Prompt: {prompt}\\n\")\n",
    "    file.write(f\"Response: {response}\\n\\n\")\n",
    "file.close()"
   ]
  },
  {
   "cell_type": "code",
   "execution_count": null,
   "metadata": {},
   "outputs": [],
   "source": []
  }
 ],
 "metadata": {
  "kernelspec": {
   "display_name": "Python 3",
   "language": "python",
   "name": "python3"
  },
  "language_info": {
   "codemirror_mode": {
    "name": "ipython",
    "version": 3
   },
   "file_extension": ".py",
   "mimetype": "text/x-python",
   "name": "python",
   "nbconvert_exporter": "python",
   "pygments_lexer": "ipython3",
   "version": "3.12.0"
  }
 },
 "nbformat": 4,
 "nbformat_minor": 2
}
