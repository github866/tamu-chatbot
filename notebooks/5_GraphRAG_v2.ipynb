{
 "cells": [
  {
   "cell_type": "code",
   "execution_count": 13,
   "metadata": {},
   "outputs": [
    {
     "name": "stdout",
     "output_type": "stream",
     "text": [
      "\n",
      "\u001b[1m[\u001b[0m\u001b[34;49mnotice\u001b[0m\u001b[1;39;49m]\u001b[0m\u001b[39;49m A new release of pip is available: \u001b[0m\u001b[31;49m23.2.1\u001b[0m\u001b[39;49m -> \u001b[0m\u001b[32;49m24.3.1\u001b[0m\n",
      "\u001b[1m[\u001b[0m\u001b[34;49mnotice\u001b[0m\u001b[1;39;49m]\u001b[0m\u001b[39;49m To update, run: \u001b[0m\u001b[32;49mpip install --upgrade pip\u001b[0m\n",
      "Note: you may need to restart the kernel to use updated packages.\n"
     ]
    }
   ],
   "source": [
    "%pip install --upgrade --quiet langchain langchain-community langchain-experimental"
   ]
  },
  {
   "cell_type": "code",
   "execution_count": 14,
   "metadata": {},
   "outputs": [],
   "source": [
    "import os\n",
    "import re\n",
    "import requests\n",
    "import html\n",
    "import networkx as nx\n",
    "import plotly.graph_objects as go\n",
    "import numpy as np\n",
    "# langchains\n",
    "from langchain_community.chat_models import ChatOllama\n",
    "from langchain_experimental.graph_transformers import LLMGraphTransformer\n",
    "from langchain.docstore.document import Document"
   ]
  },
  {
   "cell_type": "code",
   "execution_count": 15,
   "metadata": {},
   "outputs": [],
   "source": [
    "def get_json_request(url):\n",
    "  return requests.get(url).json()\n",
    "\n",
    "def strip_html(text):\n",
    "  \"\"\" remove HTML tags from a string \"\"\"\n",
    "  if not isinstance(text, str):\n",
    "    return \"\"\n",
    "  clean = re.compile(\"<.*?>\")\n",
    "  return re.sub(clean, \"\", text)\n",
    "\n",
    "def preprocess_events(events):\n",
    "  \"\"\" construct dictionary from event data \"\"\"\n",
    "  return [\n",
    "    {\n",
    "      \"title\": event[\"title\"],\n",
    "      \"group_title\": event[\"group_title\"],\n",
    "      \"url\": event[\"url\"],\n",
    "      \"description\": strip_html(event[\"description\"]),\n",
    "      \"date\": event[\"date\"],\n",
    "      \"date_time\": event[\"date_time\"],\n",
    "      \"location\": event[\"location\"],\n",
    "      \"location_title\": event[\"location_title\"],\n",
    "      \"location_latitude\": float(event[\"location_latitude\"]) if event[\"location_latitude\"] != None else 0,\n",
    "      \"location_longitude\": float(event[\"location_longitude\"]) if event[\"location_longitude\"] != None else 0,\n",
    "      \"cost\": event[\"cost\"],\n",
    "      \"thumbnail\": event[\"thumbnail\"],\n",
    "      \"event_types\": event[\"event_types\"],\n",
    "      \"event_types_audience\": event[\"event_types_audience\"],\n",
    "    }\n",
    "    for event in events\n",
    "  ]\n",
    "\n",
    "def transform_event_to_sentence(event):\n",
    "  # extract fields from the event record\n",
    "  title = event.get(\"title\", None)\n",
    "  group_title = event.get(\"group_title\", None)\n",
    "  date = event.get(\"date\", None)\n",
    "  date_time = event.get(\"date_time\", None)\n",
    "  location = event.get(\"location\", None)\n",
    "  description = event.get(\"description\", \"\").strip()\n",
    "  location_title = event.get(\"location_title\", None)\n",
    "  cost = event.get(\"cost\", None)\n",
    "  event_types = event.get(\"event_types\", None)\n",
    "  event_types_audience = event.get(\"event_types_audience\", None)\n",
    "  url = event.get(\"url\", None)\n",
    "\n",
    "  sentence = \"\"\n",
    "  sentence += f\"The event titled '{title}' \" if title else \"The event with no title \"\n",
    "  sentence += f\"is organized by {group_title} \" if group_title else \"\"\n",
    "  sentence += f\"and is scheduled to take place on {date}.\" if date else \"\"\n",
    "  sentence += f\" At {date_time}.\" if date_time else \"\"\n",
    "  sentence += f\" The event will be held at {location}.\" if location else \"\"\n",
    "  sentence += f\" ({location_title}).\" if location_title else \"\"\n",
    "  sentence += f\" The cost for attending is {cost}.\" if cost else \" The cost for attending is FREE.\"\n",
    "  sentence += f\" Description: {description}.\" if description else \"\"\n",
    "  sentence += f\" This event is categorized under {event_types[0]}.\" if event_types else \"\"\n",
    "  sentence += f\" The intended audience for this event is for {','.join(event_types_audience)}.\" if event_types_audience else \"\"\n",
    "  sentence += f\" For more details, you can visit the event page at {url}.\" if url else \"\"\n",
    "\n",
    "  return html.unescape(sentence)"
   ]
  },
  {
   "cell_type": "code",
   "execution_count": 17,
   "metadata": {},
   "outputs": [],
   "source": [
    "# read and write tamu events data\n",
    "file_path = os.path.join(index_root, 'input', 'tamu_events.txt')\n",
    "tamu_events_url = \"https://calendar.tamu.edu/live/json/events/group\"\n",
    "tamu_events = requests.get(tamu_events_url)\n",
    "data = tamu_events.json()\n",
    "\n",
    "# transform it to sentences and store in documents\n",
    "preprocessed_data = preprocess_events(data)\n",
    "documents = []\n",
    "for i, event in enumerate(preprocessed_data):\n",
    "  sentence = transform_event_to_sentence(event)\n",
    "  doc =  Document(page_content=f\"Event {i + 1}: {sentence}\", metadata={\"source\": \"local\"})\n",
    "  documents.append(doc)"
   ]
  },
  {
   "cell_type": "code",
   "execution_count": 18,
   "metadata": {},
   "outputs": [
    {
     "data": {
      "text/plain": [
       "Document(metadata={'source': 'local'}, page_content=\"Event 1: The event titled 'Army Futures Command HMI Summit Set-up' is organized by Research Integration Center (RIC) and is scheduled to take place on November 1. The event will be held at RIC, Various. The cost for attending is FREE. For more details, you can visit the event page at https://calendar.tamu.edu/ric/event/339092-army-futures-command-hmi-summit-set-up.\")"
      ]
     },
     "execution_count": 18,
     "metadata": {},
     "output_type": "execute_result"
    }
   ],
   "source": [
    "documents[0]"
   ]
  },
  {
   "cell_type": "code",
   "execution_count": 27,
   "metadata": {},
   "outputs": [],
   "source": [
    "# First, let try with one document\n",
    "llm = ChatOllama(model=\"mistral\", temperature=0)\n",
    "llm_transformer = LLMGraphTransformer(llm=llm)\n",
    "graph_documents = llm_transformer.convert_to_graph_documents(documents[:10])"
   ]
  },
  {
   "cell_type": "code",
   "execution_count": 30,
   "metadata": {},
   "outputs": [
    {
     "name": "stdout",
     "output_type": "stream",
     "text": [
      "Research Integration Center (RIC)  , Type:  Organization\n",
      "Army Futures Command HMI Summit Set-up  , Type:  Event\n",
      "FREE  , Type:  Cost\n",
      "https://calendar.tamu.edu/ric/event/339092-army-futures-command-hmi-summit-set-up  , Type:  URL\n",
      "RIC, Various  , Type:  Location\n",
      "November 1  , Type:  Date\n"
     ]
    }
   ],
   "source": [
    "for node in graph_documents[0].nodes: #entities\n",
    "  print(node.id, \" , Type: \", node.type)"
   ]
  },
  {
   "cell_type": "code",
   "execution_count": 31,
   "metadata": {},
   "outputs": [
    {
     "name": "stdout",
     "output_type": "stream",
     "text": [
      "Army Futures Command HMI Summit Set-up  <-->  Research Integration Center (RIC)\n",
      "ORGANIZED_BY\n",
      "Army Futures Command HMI Summit Set-up  <-->  November 1\n",
      "SCHEDULED_ON\n",
      "Army Futures Command HMI Summit Set-up  <-->  RIC, Various\n",
      "LOCATION\n",
      "Army Futures Command HMI Summit Set-up  <-->  FREE\n",
      "HAS_CHARACTERISTIC\n",
      "Army Futures Command HMI Summit Set-up  <-->  https://calendar.tamu.edu/ric/event/339092-army-futures-command-hmi-summit-set-up\n",
      "HAS_URL\n"
     ]
    }
   ],
   "source": [
    "for relationship in graph_documents[0].relationships:\n",
    "  print(relationship.source.id, \" <--> \", relationship.target.id)\n",
    "  print(relationship.type)"
   ]
  },
  {
   "cell_type": "code",
   "execution_count": 32,
   "metadata": {},
   "outputs": [],
   "source": [
    "G = nx.Graph()\n",
    "graph_data = graph_documents\n",
    "\n",
    "for graph in graph_data:\n",
    "  for node in graph.nodes:\n",
    "      G.add_node(node.id, label=node.type)\n",
    "\n",
    "  for edge in graph.relationships:\n",
    "      G.add_edge(edge.source.id, edge.target.id, type=edge.type)"
   ]
  },
  {
   "cell_type": "code",
   "execution_count": 34,
   "metadata": {},
   "outputs": [],
   "source": [
    "# create a 3D spring layout with more separation\n",
    "pos = nx.spring_layout(G, dim=3, seed=42, k=0.5)\n",
    "# extract node positions\n",
    "x_nodes = [pos[node][0] for node in G.nodes()]\n",
    "y_nodes = [pos[node][1] for node in G.nodes()]\n",
    "z_nodes = [pos[node][2] for node in G.nodes()]\n",
    "# extract edge positions\n",
    "x_edges = []\n",
    "y_edges = []\n",
    "z_edges = []\n",
    "\n",
    "for edge in G.edges():\n",
    "    x_edges.extend([pos[edge[0]][0], pos[edge[1]][0], None])\n",
    "    y_edges.extend([pos[edge[0]][1], pos[edge[1]][1], None])\n",
    "    z_edges.extend([pos[edge[0]][2], pos[edge[1]][2], None])\n",
    "# generate node colors based on a colormap\n",
    "node_colors = [G.degree(node) for node in G.nodes()]\n",
    "node_colors = np.array(node_colors)\n",
    "node_colors = (node_colors - node_colors.min()) / (node_colors.max() - node_colors.min())  # Normalize to [0, 1]\n",
    "# create the trace for edges\n",
    "edge_trace = go.Scatter3d(\n",
    "    x=x_edges, y=y_edges, z=z_edges,\n",
    "    mode='lines',\n",
    "    line=dict(color='lightgray', width=0.5),\n",
    "    hoverinfo='none'\n",
    ")\n",
    "# create the trace for nodes\n",
    "node_trace = go.Scatter3d(\n",
    "    x=x_nodes, y=y_nodes, z=z_nodes,\n",
    "    mode='markers+text',\n",
    "    marker=dict(\n",
    "        size=7,\n",
    "        color=node_colors,\n",
    "        colorscale='Viridis',  # Use a color scale for the nodes\n",
    "        colorbar=dict(\n",
    "            title='Node Degree',\n",
    "            thickness=10,\n",
    "            x=1.1,\n",
    "            tickvals=[0, 1],\n",
    "            ticktext=['Low', 'High']\n",
    "        ),\n",
    "        line=dict(width=1)\n",
    "    ),\n",
    "    text=[node for node in G.nodes()],\n",
    "    textposition=\"top center\",\n",
    "    textfont=dict(size=10, color='black'),\n",
    "    hoverinfo='text'\n",
    ")"
   ]
  },
  {
   "cell_type": "code",
   "execution_count": 35,
   "metadata": {},
   "outputs": [
    {
     "data": {
      "application/vnd.plotly.v1+json": {
       "config": {
        "plotlyServerURL": "https://plot.ly"
       },
       "data": [
        {
         "hoverinfo": "none",
         "line": {
          "color": "lightgray",
          "width": 0.5
         },
         "mode": "lines",
         "type": "scatter3d",
         "x": [
          0.27989942897471615,
          0.18644961943107582,
          null,
          0.18644961943107582,
          -0.13899666068366043,
          null,
          0.18644961943107582,
          0.5544726983101359,
          null,
          0.18644961943107582,
          -0.2145910087194392,
          null,
          0.18644961943107582,
          0.38016830202833046,
          null,
          -0.2145910087194392,
          -0.5527884501179264,
          null,
          -0.2145910087194392,
          -0.24713748827081333,
          null,
          -0.2145910087194392,
          -0.660103101473318,
          null,
          -0.2145910087194392,
          0.15022038376646354,
          null,
          -0.13899666068366043,
          -0.14920147738123724,
          null,
          -0.13899666068366043,
          -0.35752214390941545,
          null,
          -0.13899666068366043,
          -0.09778223118559688,
          null,
          -0.13899666068366043,
          -0.5970589362891933,
          null,
          -0.13899666068366043,
          -0.24713748827081333,
          null,
          -0.13899666068366043,
          0.14446213312253747,
          null,
          -0.13899666068366043,
          -0.4324081626253715,
          null,
          -0.13899666068366043,
          -0.05337767706013686,
          null,
          -0.13899666068366043,
          0.15022038376646354,
          null,
          0.7473560549051571,
          0.6496860602992816,
          null,
          -0.47172446142932567,
          -0.14920147738123724,
          null,
          0.6496860602992816,
          0.8646424272885914,
          null,
          -0.2900108360304721,
          -0.14920147738123724,
          null,
          -0.2900108360304721,
          -0.35752214390941545,
          null,
          -0.2900108360304721,
          -0.4324081626253715,
          null,
          -0.2900108360304721,
          -0.05337767706013686,
          null,
          -0.04488315050065165,
          -0.14920147738123724,
          null,
          -0.14920147738123724,
          -0.03808851812908923,
          null,
          -0.14920147738123724,
          -0.41169332809202736,
          null,
          -0.14920147738123724,
          0.21100461485651034,
          null,
          -0.14920147738123724,
          0.029801602332801318,
          null,
          0.1046126677595364,
          -0.04090641819844935,
          null,
          -0.4021774865776389,
          -0.5991803052120555,
          null,
          -0.5054343617971591,
          -0.35752214390941545,
          null,
          0.47475407929785335,
          0.561074612140362,
          null,
          -0.2787870473742282,
          -0.35752214390941545,
          null,
          1,
          0.6633936493214266,
          null,
          -0.19519862003697266,
          -0.3215530315338425,
          null,
          0.773006696388434,
          0.6633936493214266,
          null,
          -0.0125029775201332,
          -0.09778223118559688,
          null,
          0.06672252899850843,
          0.2736566611292626,
          null,
          0.06672252899850843,
          -0.24713748827081333,
          null,
          0.06672252899850843,
          0.14446213312253747,
          null,
          -0.850661289530963,
          -0.5970589362891933,
          null,
          -0.24713748827081333,
          -0.5087815686856866,
          null,
          0.4359446946295539,
          0.14446213312253747,
          null,
          -0.4324081626253715,
          -0.5095195932178648,
          null,
          -0.4324081626253715,
          -0.684132262066599,
          null,
          -0.4324081626253715,
          -0.4618811982775569,
          null,
          -0.09014694850597486,
          -0.05337767706013686,
          null,
          -0.09014694850597486,
          0.06961769580237513,
          null,
          -0.05337767706013686,
          0.2944019854841066,
          null,
          0.06961769580237513,
          0.15022038376646354,
          null,
          0.15022038376646354,
          0.29387359905507515,
          null,
          0.15022038376646354,
          0.4307215091534911,
          null,
          0.15022038376646354,
          0.5782870359572133,
          null
         ],
         "y": [
          0.13055796871524347,
          -0.20473724182856612,
          null,
          -0.20473724182856612,
          -0.11382656433343087,
          null,
          -0.20473724182856612,
          -0.4266194081742934,
          null,
          -0.20473724182856612,
          -0.03977897213544578,
          null,
          -0.20473724182856612,
          -0.41206500433408,
          null,
          -0.03977897213544578,
          -0.19931642796520868,
          null,
          -0.03977897213544578,
          0.3212789385976585,
          null,
          -0.03977897213544578,
          -0.11166563674686533,
          null,
          -0.03977897213544578,
          -0.0023019644994246953,
          null,
          -0.11382656433343087,
          -0.6111333821220865,
          null,
          -0.11382656433343087,
          -0.6105307235171128,
          null,
          -0.11382656433343087,
          0.14951521271609128,
          null,
          -0.11382656433343087,
          -0.11421115160771218,
          null,
          -0.11382656433343087,
          0.3212789385976585,
          null,
          -0.11382656433343087,
          0.3854244323036364,
          null,
          -0.11382656433343087,
          -0.04800709055666155,
          null,
          -0.11382656433343087,
          -0.3913777020234633,
          null,
          -0.11382656433343087,
          -0.0023019644994246953,
          null,
          0.28373585804739476,
          0.5129613848518927,
          null,
          -0.5914588160023913,
          -0.6111333821220865,
          null,
          0.5129613848518927,
          0.7580743150153578,
          null,
          -0.3940444073281516,
          -0.6111333821220865,
          null,
          -0.3940444073281516,
          -0.6105307235171128,
          null,
          -0.3940444073281516,
          -0.04800709055666155,
          null,
          -0.3940444073281516,
          -0.3913777020234633,
          null,
          -0.8281492871990668,
          -0.6111333821220865,
          null,
          -0.6111333821220865,
          -0.7610344981341354,
          null,
          -0.6111333821220865,
          -0.31325009791062425,
          null,
          -0.6111333821220865,
          -0.7565577767085288,
          null,
          -0.6111333821220865,
          -0.9527045330778413,
          null,
          0.9809401438620312,
          0.9369302978525315,
          null,
          0.8093674693373804,
          0.7578843869032793,
          null,
          -0.8952237981783865,
          -0.6105307235171128,
          null,
          0.19053142953731347,
          0.3884275968183066,
          null,
          -0.8626040833303813,
          -0.6105307235171128,
          null,
          -0.19600906142855903,
          -0.25143213985258694,
          null,
          0.766147077460054,
          0.7189307716959565,
          null,
          -0.3867226446735973,
          -0.25143213985258694,
          null,
          0.4156399750870976,
          0.14951521271609128,
          null,
          0.5517551662075776,
          0.613067613837028,
          null,
          0.5517551662075776,
          0.3212789385976585,
          null,
          0.5517551662075776,
          0.3854244323036364,
          null,
          -0.152028651510643,
          -0.11421115160771218,
          null,
          0.3212789385976585,
          0.6606592546026284,
          null,
          0.684552603992591,
          0.3854244323036364,
          null,
          -0.04800709055666155,
          0.32409176028093684,
          null,
          -0.04800709055666155,
          -0.08717480628585239,
          null,
          -0.04800709055666155,
          0.17160473592016512,
          null,
          -0.34918349751107364,
          -0.3913777020234633,
          null,
          -0.34918349751107364,
          -0.14600217225328574,
          null,
          -0.3913777020234633,
          -0.5793459380998978,
          null,
          -0.14600217225328574,
          -0.0023019644994246953,
          null,
          -0.0023019644994246953,
          0.045377875145036196,
          null,
          -0.0023019644994246953,
          0.18978330989016798,
          null,
          -0.0023019644994246953,
          0.04125790065199769,
          null
         ],
         "z": [
          0.47168286481027216,
          0.33453621462917255,
          null,
          0.33453621462917255,
          0.02344159575062422,
          null,
          0.33453621462917255,
          0.25916584361857287,
          null,
          0.33453621462917255,
          0.08514132704956634,
          null,
          0.33453621462917255,
          0.6789964541663622,
          null,
          0.08514132704956634,
          0.31586744904636727,
          null,
          0.08514132704956634,
          0.14589555855859063,
          null,
          0.08514132704956634,
          0.15636774978372864,
          null,
          0.08514132704956634,
          -0.41635038518475936,
          null,
          0.02344159575062422,
          -0.1503659552132985,
          null,
          0.02344159575062422,
          0.051511581094117645,
          null,
          0.02344159575062422,
          0.47466192777513716,
          null,
          0.02344159575062422,
          -0.1488319252249078,
          null,
          0.02344159575062422,
          0.14589555855859063,
          null,
          0.02344159575062422,
          -0.07998620007420856,
          null,
          0.02344159575062422,
          0.46017911347490037,
          null,
          0.02344159575062422,
          -0.3605614215648277,
          null,
          0.02344159575062422,
          -0.41635038518475936,
          null,
          0.1850065787459735,
          0.06222151917147532,
          null,
          -0.39620546675972346,
          -0.1503659552132985,
          null,
          0.06222151917147532,
          0.13071289311945042,
          null,
          0.04921032025958996,
          -0.1503659552132985,
          null,
          0.04921032025958996,
          0.051511581094117645,
          null,
          0.04921032025958996,
          0.46017911347490037,
          null,
          0.04921032025958996,
          -0.3605614215648277,
          null,
          -0.4776727831714294,
          -0.1503659552132985,
          null,
          -0.1503659552132985,
          0.21978808869048705,
          null,
          -0.1503659552132985,
          -0.36403942351060936,
          null,
          -0.1503659552132985,
          -0.046669451248802465,
          null,
          -0.1503659552132985,
          -0.09767561479125106,
          null,
          0.05514498720655616,
          -0.14249764968055448,
          null,
          -0.4296580446234439,
          -0.25255141729295805,
          null,
          -0.12148099412211748,
          0.051511581094117645,
          null,
          0.7735588330455099,
          0.6123830413381514,
          null,
          0.1928688357671678,
          0.051511581094117645,
          null,
          -0.14353306220332687,
          -0.16311880579718788,
          null,
          -0.5357993721912581,
          -0.2826175309058233,
          null,
          -0.4307958211393978,
          -0.16311880579718788,
          null,
          0.7480345898254567,
          0.47466192777513716,
          null,
          0.20940298113622124,
          0.4726709529995502,
          null,
          0.20940298113622124,
          0.14589555855859063,
          null,
          0.20940298113622124,
          -0.07998620007420856,
          null,
          -0.2347664663434569,
          -0.1488319252249078,
          null,
          0.14589555855859063,
          0.22187234705293318,
          null,
          -0.3085638586920189,
          -0.07998620007420856,
          null,
          0.46017911347490037,
          0.6922754437014481,
          null,
          0.46017911347490037,
          0.7780098257581441,
          null,
          0.46017911347490037,
          0.7446420142936007,
          null,
          -0.7733698127475775,
          -0.3605614215648277,
          null,
          -0.7733698127475775,
          -0.8240406451565824,
          null,
          -0.3605614215648277,
          -0.5815838654348117,
          null,
          -0.8240406451565824,
          -0.41635038518475936,
          null,
          -0.41635038518475936,
          -0.8382720686965182,
          null,
          -0.41635038518475936,
          -0.6954363519667157,
          null,
          -0.41635038518475936,
          -0.308806538131558,
          null
         ]
        },
        {
         "hoverinfo": "text",
         "marker": {
          "color": [
           0,
           0.4444444444444444,
           0.4444444444444444,
           0,
           0,
           1,
           0,
           0,
           0.1111111111111111,
           0.3333333333333333,
           0,
           0,
           0.7777777777777778,
           0,
           0,
           0,
           0,
           0,
           0,
           0,
           0,
           0,
           0,
           0,
           0,
           0,
           0.3333333333333333,
           0,
           0.1111111111111111,
           0,
           0,
           0,
           0.2222222222222222,
           0,
           0,
           0.1111111111111111,
           0,
           0.1111111111111111,
           0.3333333333333333,
           0,
           0,
           0,
           0.2222222222222222,
           0.4444444444444444,
           0,
           0,
           0,
           0.1111111111111111,
           0.3333333333333333,
           0.1111111111111111,
           0,
           0.5555555555555556,
           0,
           0,
           0
          ],
          "colorbar": {
           "thickness": 10,
           "ticktext": [
            "Low",
            "High"
           ],
           "tickvals": [
            0,
            1
           ],
           "title": {
            "text": "Node Degree"
           },
           "x": 1.1
          },
          "colorscale": [
           [
            0,
            "#440154"
           ],
           [
            0.1111111111111111,
            "#482878"
           ],
           [
            0.2222222222222222,
            "#3e4989"
           ],
           [
            0.3333333333333333,
            "#31688e"
           ],
           [
            0.4444444444444444,
            "#26828e"
           ],
           [
            0.5555555555555556,
            "#1f9e89"
           ],
           [
            0.6666666666666666,
            "#35b779"
           ],
           [
            0.7777777777777778,
            "#6ece58"
           ],
           [
            0.8888888888888888,
            "#b5de2b"
           ],
           [
            1,
            "#fde725"
           ]
          ],
          "line": {
           "width": 1
          },
          "size": 7
         },
         "mode": "markers+text",
         "text": [
          "Research Integration Center (RIC)",
          "Army Futures Command HMI Summit Set-up",
          "FREE",
          "https://calendar.tamu.edu/ric/event/339092-army-futures-command-hmi-summit-set-up",
          "RIC, Various",
          "November 1",
          "Student Rec Center",
          "Student Recreation Center",
          "canned food items",
          "Free",
          "Texas A&M Rec Sports Sport Clubs Program",
          "Brazos Valley Food Bank",
          "BTHO Hunger | Sport Clubs Can Food Drive",
          "Faculty,Residents,Staff,Students,Visitors",
          "https://calendar.tamu.edu/recsports/event/338904-btho-hunger-sport-clubs-can-food-drive",
          "Campus Life",
          "Rec Sports",
          "graduate advising appointments",
          "This event is categorized under General Interest.",
          "In person, by phone or virtually",
          "A maximum of 1 PDU from 1:1 consultations with the Career Center may be used per professional development certificates.",
          "G.R.A.D Aggies",
          "Career Center Advisors Dr. Paul Rainey (Associate Director, Graduate Students) and Gio Negron-Garcia (Career Coordinator, Graduate Students)",
          "GRAD Aggies Professional Development Certificate",
          "General Interest",
          "The intended audience for this event is for Students.",
          "Career Center presents: Graduate 1:1 Advising Appointments (Recurring Daily)",
          "1 PDU",
          "Attending a 1-hour advising appointment with a  and completing the online reflection in our Canvas page, earns 1 PDU towards a GRAD Aggies Professional Development Certificate.",
          "PDU",
          "Students",
          "https://calendar.tamu.edu/deptrecsports/event/335554-closed",
          "Department of Rec Sports",
          "Attending",
          "CLOSED",
          "Event 4",
          "https://calendar.tamu.edu/deptrecsports/event/335600-closed",
          "Event 5",
          "Event titled 'CLOSED'",
          "https://calendar.tamu.edu/deptrecsports/event/337955-closed",
          "https://calendar.tamu.edu/deptrecsports/event/337984-closed",
          "Attending Event 7: The event titled 'CLOSED'",
          "Event 7: The event titled 'CLOSED'",
          "Doctoral Education Program: Spring Application Period",
          "January 2",
          "Deadlines",
          "Aggie One Stop",
          "University Arts",
          "Flower Power",
          "Academic Calendar",
          "J. Wayne Stark Galleries",
          "Free Tutoring",
          "College Hills Baptist Church 712 Churchill Street College Station Texas 77840",
          "https://calendar.tamu.edu/kamu-community/event/335415-free-tutoring",
          "KAMU Community Calendar"
         ],
         "textfont": {
          "color": "black",
          "size": 10
         },
         "textposition": "top center",
         "type": "scatter3d",
         "x": [
          0.27989942897471615,
          0.18644961943107582,
          -0.2145910087194392,
          0.38016830202833046,
          0.5544726983101359,
          -0.13899666068366043,
          0.7473560549051571,
          -0.47172446142932567,
          0.6496860602992816,
          -0.2900108360304721,
          -0.04488315050065165,
          0.8646424272885914,
          -0.14920147738123724,
          0.029801602332801318,
          -0.41169332809202736,
          0.21100461485651034,
          -0.03808851812908923,
          0.1046126677595364,
          -0.4021774865776389,
          -0.5054343617971591,
          0.47475407929785335,
          -0.2787870473742282,
          -0.04090641819844935,
          1,
          -0.5991803052120555,
          -0.19519862003697266,
          -0.35752214390941545,
          0.773006696388434,
          0.6633936493214266,
          0.561074612140362,
          -0.3215530315338425,
          -0.0125029775201332,
          0.06672252899850843,
          -0.5527884501179264,
          0.2736566611292626,
          -0.09778223118559688,
          -0.850661289530963,
          -0.5970589362891933,
          -0.24713748827081333,
          -0.5087815686856866,
          0.4359446946295539,
          -0.660103101473318,
          0.14446213312253747,
          -0.4324081626253715,
          -0.684132262066599,
          -0.4618811982775569,
          -0.5095195932178648,
          -0.09014694850597486,
          -0.05337767706013686,
          0.06961769580237513,
          0.2944019854841066,
          0.15022038376646354,
          0.4307215091534911,
          0.5782870359572133,
          0.29387359905507515
         ],
         "y": [
          0.13055796871524347,
          -0.20473724182856612,
          -0.03977897213544578,
          -0.41206500433408,
          -0.4266194081742934,
          -0.11382656433343087,
          0.28373585804739476,
          -0.5914588160023913,
          0.5129613848518927,
          -0.3940444073281516,
          -0.8281492871990668,
          0.7580743150153578,
          -0.6111333821220865,
          -0.9527045330778413,
          -0.31325009791062425,
          -0.7565577767085288,
          -0.7610344981341354,
          0.9809401438620312,
          0.8093674693373804,
          -0.8952237981783865,
          0.19053142953731347,
          -0.8626040833303813,
          0.9369302978525315,
          -0.19600906142855903,
          0.7578843869032793,
          0.766147077460054,
          -0.6105307235171128,
          -0.3867226446735973,
          -0.25143213985258694,
          0.3884275968183066,
          0.7189307716959565,
          0.4156399750870976,
          0.5517551662075776,
          -0.19931642796520868,
          0.613067613837028,
          0.14951521271609128,
          -0.152028651510643,
          -0.11421115160771218,
          0.3212789385976585,
          0.6606592546026284,
          0.684552603992591,
          -0.11166563674686533,
          0.3854244323036364,
          -0.04800709055666155,
          -0.08717480628585239,
          0.17160473592016512,
          0.32409176028093684,
          -0.34918349751107364,
          -0.3913777020234633,
          -0.14600217225328574,
          -0.5793459380998978,
          -0.0023019644994246953,
          0.18978330989016798,
          0.04125790065199769,
          0.045377875145036196
         ],
         "z": [
          0.47168286481027216,
          0.33453621462917255,
          0.08514132704956634,
          0.6789964541663622,
          0.25916584361857287,
          0.02344159575062422,
          0.1850065787459735,
          -0.39620546675972346,
          0.06222151917147532,
          0.04921032025958996,
          -0.4776727831714294,
          0.13071289311945042,
          -0.1503659552132985,
          -0.09767561479125106,
          -0.36403942351060936,
          -0.046669451248802465,
          0.21978808869048705,
          0.05514498720655616,
          -0.4296580446234439,
          -0.12148099412211748,
          0.7735588330455099,
          0.1928688357671678,
          -0.14249764968055448,
          -0.14353306220332687,
          -0.25255141729295805,
          -0.5357993721912581,
          0.051511581094117645,
          -0.4307958211393978,
          -0.16311880579718788,
          0.6123830413381514,
          -0.2826175309058233,
          0.7480345898254567,
          0.20940298113622124,
          0.31586744904636727,
          0.4726709529995502,
          0.47466192777513716,
          -0.2347664663434569,
          -0.1488319252249078,
          0.14589555855859063,
          0.22187234705293318,
          -0.3085638586920189,
          0.15636774978372864,
          -0.07998620007420856,
          0.46017911347490037,
          0.7780098257581441,
          0.7446420142936007,
          0.6922754437014481,
          -0.7733698127475775,
          -0.3605614215648277,
          -0.8240406451565824,
          -0.5815838654348117,
          -0.41635038518475936,
          -0.6954363519667157,
          -0.308806538131558,
          -0.8382720686965182
         ]
        }
       ],
       "layout": {
        "annotations": [
         {
          "showarrow": false,
          "text": "Interactive 3D visualization of GraphML data",
          "x": 0,
          "xref": "paper",
          "y": 0,
          "yref": "paper"
         }
        ],
        "margin": {
         "b": 0,
         "l": 0,
         "r": 0,
         "t": 40
        },
        "scene": {
         "xaxis": {
          "showbackground": false
         },
         "yaxis": {
          "showbackground": false
         },
         "zaxis": {
          "showbackground": false
         }
        },
        "showlegend": false,
        "template": {
         "data": {
          "bar": [
           {
            "error_x": {
             "color": "#2a3f5f"
            },
            "error_y": {
             "color": "#2a3f5f"
            },
            "marker": {
             "line": {
              "color": "#E5ECF6",
              "width": 0.5
             },
             "pattern": {
              "fillmode": "overlay",
              "size": 10,
              "solidity": 0.2
             }
            },
            "type": "bar"
           }
          ],
          "barpolar": [
           {
            "marker": {
             "line": {
              "color": "#E5ECF6",
              "width": 0.5
             },
             "pattern": {
              "fillmode": "overlay",
              "size": 10,
              "solidity": 0.2
             }
            },
            "type": "barpolar"
           }
          ],
          "carpet": [
           {
            "aaxis": {
             "endlinecolor": "#2a3f5f",
             "gridcolor": "white",
             "linecolor": "white",
             "minorgridcolor": "white",
             "startlinecolor": "#2a3f5f"
            },
            "baxis": {
             "endlinecolor": "#2a3f5f",
             "gridcolor": "white",
             "linecolor": "white",
             "minorgridcolor": "white",
             "startlinecolor": "#2a3f5f"
            },
            "type": "carpet"
           }
          ],
          "choropleth": [
           {
            "colorbar": {
             "outlinewidth": 0,
             "ticks": ""
            },
            "type": "choropleth"
           }
          ],
          "contour": [
           {
            "colorbar": {
             "outlinewidth": 0,
             "ticks": ""
            },
            "colorscale": [
             [
              0,
              "#0d0887"
             ],
             [
              0.1111111111111111,
              "#46039f"
             ],
             [
              0.2222222222222222,
              "#7201a8"
             ],
             [
              0.3333333333333333,
              "#9c179e"
             ],
             [
              0.4444444444444444,
              "#bd3786"
             ],
             [
              0.5555555555555556,
              "#d8576b"
             ],
             [
              0.6666666666666666,
              "#ed7953"
             ],
             [
              0.7777777777777778,
              "#fb9f3a"
             ],
             [
              0.8888888888888888,
              "#fdca26"
             ],
             [
              1,
              "#f0f921"
             ]
            ],
            "type": "contour"
           }
          ],
          "contourcarpet": [
           {
            "colorbar": {
             "outlinewidth": 0,
             "ticks": ""
            },
            "type": "contourcarpet"
           }
          ],
          "heatmap": [
           {
            "colorbar": {
             "outlinewidth": 0,
             "ticks": ""
            },
            "colorscale": [
             [
              0,
              "#0d0887"
             ],
             [
              0.1111111111111111,
              "#46039f"
             ],
             [
              0.2222222222222222,
              "#7201a8"
             ],
             [
              0.3333333333333333,
              "#9c179e"
             ],
             [
              0.4444444444444444,
              "#bd3786"
             ],
             [
              0.5555555555555556,
              "#d8576b"
             ],
             [
              0.6666666666666666,
              "#ed7953"
             ],
             [
              0.7777777777777778,
              "#fb9f3a"
             ],
             [
              0.8888888888888888,
              "#fdca26"
             ],
             [
              1,
              "#f0f921"
             ]
            ],
            "type": "heatmap"
           }
          ],
          "heatmapgl": [
           {
            "colorbar": {
             "outlinewidth": 0,
             "ticks": ""
            },
            "colorscale": [
             [
              0,
              "#0d0887"
             ],
             [
              0.1111111111111111,
              "#46039f"
             ],
             [
              0.2222222222222222,
              "#7201a8"
             ],
             [
              0.3333333333333333,
              "#9c179e"
             ],
             [
              0.4444444444444444,
              "#bd3786"
             ],
             [
              0.5555555555555556,
              "#d8576b"
             ],
             [
              0.6666666666666666,
              "#ed7953"
             ],
             [
              0.7777777777777778,
              "#fb9f3a"
             ],
             [
              0.8888888888888888,
              "#fdca26"
             ],
             [
              1,
              "#f0f921"
             ]
            ],
            "type": "heatmapgl"
           }
          ],
          "histogram": [
           {
            "marker": {
             "pattern": {
              "fillmode": "overlay",
              "size": 10,
              "solidity": 0.2
             }
            },
            "type": "histogram"
           }
          ],
          "histogram2d": [
           {
            "colorbar": {
             "outlinewidth": 0,
             "ticks": ""
            },
            "colorscale": [
             [
              0,
              "#0d0887"
             ],
             [
              0.1111111111111111,
              "#46039f"
             ],
             [
              0.2222222222222222,
              "#7201a8"
             ],
             [
              0.3333333333333333,
              "#9c179e"
             ],
             [
              0.4444444444444444,
              "#bd3786"
             ],
             [
              0.5555555555555556,
              "#d8576b"
             ],
             [
              0.6666666666666666,
              "#ed7953"
             ],
             [
              0.7777777777777778,
              "#fb9f3a"
             ],
             [
              0.8888888888888888,
              "#fdca26"
             ],
             [
              1,
              "#f0f921"
             ]
            ],
            "type": "histogram2d"
           }
          ],
          "histogram2dcontour": [
           {
            "colorbar": {
             "outlinewidth": 0,
             "ticks": ""
            },
            "colorscale": [
             [
              0,
              "#0d0887"
             ],
             [
              0.1111111111111111,
              "#46039f"
             ],
             [
              0.2222222222222222,
              "#7201a8"
             ],
             [
              0.3333333333333333,
              "#9c179e"
             ],
             [
              0.4444444444444444,
              "#bd3786"
             ],
             [
              0.5555555555555556,
              "#d8576b"
             ],
             [
              0.6666666666666666,
              "#ed7953"
             ],
             [
              0.7777777777777778,
              "#fb9f3a"
             ],
             [
              0.8888888888888888,
              "#fdca26"
             ],
             [
              1,
              "#f0f921"
             ]
            ],
            "type": "histogram2dcontour"
           }
          ],
          "mesh3d": [
           {
            "colorbar": {
             "outlinewidth": 0,
             "ticks": ""
            },
            "type": "mesh3d"
           }
          ],
          "parcoords": [
           {
            "line": {
             "colorbar": {
              "outlinewidth": 0,
              "ticks": ""
             }
            },
            "type": "parcoords"
           }
          ],
          "pie": [
           {
            "automargin": true,
            "type": "pie"
           }
          ],
          "scatter": [
           {
            "fillpattern": {
             "fillmode": "overlay",
             "size": 10,
             "solidity": 0.2
            },
            "type": "scatter"
           }
          ],
          "scatter3d": [
           {
            "line": {
             "colorbar": {
              "outlinewidth": 0,
              "ticks": ""
             }
            },
            "marker": {
             "colorbar": {
              "outlinewidth": 0,
              "ticks": ""
             }
            },
            "type": "scatter3d"
           }
          ],
          "scattercarpet": [
           {
            "marker": {
             "colorbar": {
              "outlinewidth": 0,
              "ticks": ""
             }
            },
            "type": "scattercarpet"
           }
          ],
          "scattergeo": [
           {
            "marker": {
             "colorbar": {
              "outlinewidth": 0,
              "ticks": ""
             }
            },
            "type": "scattergeo"
           }
          ],
          "scattergl": [
           {
            "marker": {
             "colorbar": {
              "outlinewidth": 0,
              "ticks": ""
             }
            },
            "type": "scattergl"
           }
          ],
          "scattermapbox": [
           {
            "marker": {
             "colorbar": {
              "outlinewidth": 0,
              "ticks": ""
             }
            },
            "type": "scattermapbox"
           }
          ],
          "scatterpolar": [
           {
            "marker": {
             "colorbar": {
              "outlinewidth": 0,
              "ticks": ""
             }
            },
            "type": "scatterpolar"
           }
          ],
          "scatterpolargl": [
           {
            "marker": {
             "colorbar": {
              "outlinewidth": 0,
              "ticks": ""
             }
            },
            "type": "scatterpolargl"
           }
          ],
          "scatterternary": [
           {
            "marker": {
             "colorbar": {
              "outlinewidth": 0,
              "ticks": ""
             }
            },
            "type": "scatterternary"
           }
          ],
          "surface": [
           {
            "colorbar": {
             "outlinewidth": 0,
             "ticks": ""
            },
            "colorscale": [
             [
              0,
              "#0d0887"
             ],
             [
              0.1111111111111111,
              "#46039f"
             ],
             [
              0.2222222222222222,
              "#7201a8"
             ],
             [
              0.3333333333333333,
              "#9c179e"
             ],
             [
              0.4444444444444444,
              "#bd3786"
             ],
             [
              0.5555555555555556,
              "#d8576b"
             ],
             [
              0.6666666666666666,
              "#ed7953"
             ],
             [
              0.7777777777777778,
              "#fb9f3a"
             ],
             [
              0.8888888888888888,
              "#fdca26"
             ],
             [
              1,
              "#f0f921"
             ]
            ],
            "type": "surface"
           }
          ],
          "table": [
           {
            "cells": {
             "fill": {
              "color": "#EBF0F8"
             },
             "line": {
              "color": "white"
             }
            },
            "header": {
             "fill": {
              "color": "#C8D4E3"
             },
             "line": {
              "color": "white"
             }
            },
            "type": "table"
           }
          ]
         },
         "layout": {
          "annotationdefaults": {
           "arrowcolor": "#2a3f5f",
           "arrowhead": 0,
           "arrowwidth": 1
          },
          "autotypenumbers": "strict",
          "coloraxis": {
           "colorbar": {
            "outlinewidth": 0,
            "ticks": ""
           }
          },
          "colorscale": {
           "diverging": [
            [
             0,
             "#8e0152"
            ],
            [
             0.1,
             "#c51b7d"
            ],
            [
             0.2,
             "#de77ae"
            ],
            [
             0.3,
             "#f1b6da"
            ],
            [
             0.4,
             "#fde0ef"
            ],
            [
             0.5,
             "#f7f7f7"
            ],
            [
             0.6,
             "#e6f5d0"
            ],
            [
             0.7,
             "#b8e186"
            ],
            [
             0.8,
             "#7fbc41"
            ],
            [
             0.9,
             "#4d9221"
            ],
            [
             1,
             "#276419"
            ]
           ],
           "sequential": [
            [
             0,
             "#0d0887"
            ],
            [
             0.1111111111111111,
             "#46039f"
            ],
            [
             0.2222222222222222,
             "#7201a8"
            ],
            [
             0.3333333333333333,
             "#9c179e"
            ],
            [
             0.4444444444444444,
             "#bd3786"
            ],
            [
             0.5555555555555556,
             "#d8576b"
            ],
            [
             0.6666666666666666,
             "#ed7953"
            ],
            [
             0.7777777777777778,
             "#fb9f3a"
            ],
            [
             0.8888888888888888,
             "#fdca26"
            ],
            [
             1,
             "#f0f921"
            ]
           ],
           "sequentialminus": [
            [
             0,
             "#0d0887"
            ],
            [
             0.1111111111111111,
             "#46039f"
            ],
            [
             0.2222222222222222,
             "#7201a8"
            ],
            [
             0.3333333333333333,
             "#9c179e"
            ],
            [
             0.4444444444444444,
             "#bd3786"
            ],
            [
             0.5555555555555556,
             "#d8576b"
            ],
            [
             0.6666666666666666,
             "#ed7953"
            ],
            [
             0.7777777777777778,
             "#fb9f3a"
            ],
            [
             0.8888888888888888,
             "#fdca26"
            ],
            [
             1,
             "#f0f921"
            ]
           ]
          },
          "colorway": [
           "#636efa",
           "#EF553B",
           "#00cc96",
           "#ab63fa",
           "#FFA15A",
           "#19d3f3",
           "#FF6692",
           "#B6E880",
           "#FF97FF",
           "#FECB52"
          ],
          "font": {
           "color": "#2a3f5f"
          },
          "geo": {
           "bgcolor": "white",
           "lakecolor": "white",
           "landcolor": "#E5ECF6",
           "showlakes": true,
           "showland": true,
           "subunitcolor": "white"
          },
          "hoverlabel": {
           "align": "left"
          },
          "hovermode": "closest",
          "mapbox": {
           "style": "light"
          },
          "paper_bgcolor": "white",
          "plot_bgcolor": "#E5ECF6",
          "polar": {
           "angularaxis": {
            "gridcolor": "white",
            "linecolor": "white",
            "ticks": ""
           },
           "bgcolor": "#E5ECF6",
           "radialaxis": {
            "gridcolor": "white",
            "linecolor": "white",
            "ticks": ""
           }
          },
          "scene": {
           "xaxis": {
            "backgroundcolor": "#E5ECF6",
            "gridcolor": "white",
            "gridwidth": 2,
            "linecolor": "white",
            "showbackground": true,
            "ticks": "",
            "zerolinecolor": "white"
           },
           "yaxis": {
            "backgroundcolor": "#E5ECF6",
            "gridcolor": "white",
            "gridwidth": 2,
            "linecolor": "white",
            "showbackground": true,
            "ticks": "",
            "zerolinecolor": "white"
           },
           "zaxis": {
            "backgroundcolor": "#E5ECF6",
            "gridcolor": "white",
            "gridwidth": 2,
            "linecolor": "white",
            "showbackground": true,
            "ticks": "",
            "zerolinecolor": "white"
           }
          },
          "shapedefaults": {
           "line": {
            "color": "#2a3f5f"
           }
          },
          "ternary": {
           "aaxis": {
            "gridcolor": "white",
            "linecolor": "white",
            "ticks": ""
           },
           "baxis": {
            "gridcolor": "white",
            "linecolor": "white",
            "ticks": ""
           },
           "bgcolor": "#E5ECF6",
           "caxis": {
            "gridcolor": "white",
            "linecolor": "white",
            "ticks": ""
           }
          },
          "title": {
           "x": 0.05
          },
          "xaxis": {
           "automargin": true,
           "gridcolor": "white",
           "linecolor": "white",
           "ticks": "",
           "title": {
            "standoff": 15
           },
           "zerolinecolor": "white",
           "zerolinewidth": 2
          },
          "yaxis": {
           "automargin": true,
           "gridcolor": "white",
           "linecolor": "white",
           "ticks": "",
           "title": {
            "standoff": 15
           },
           "zerolinecolor": "white",
           "zerolinewidth": 2
          }
         }
        },
        "title": {
         "text": "3D Graph Visualization"
        }
       }
      }
     },
     "metadata": {},
     "output_type": "display_data"
    }
   ],
   "source": [
    "# create the 3D plot\n",
    "fig = go.Figure(data=[edge_trace, node_trace])\n",
    "# update layout for better visualization\n",
    "fig.update_layout(\n",
    "    title='3D Graph Visualization',\n",
    "    showlegend=False,\n",
    "    scene=dict(\n",
    "        xaxis=dict(showbackground=False),\n",
    "        yaxis=dict(showbackground=False),\n",
    "        zaxis=dict(showbackground=False)\n",
    "    ),\n",
    "    margin=dict(l=0, r=0, b=0, t=40),\n",
    "    annotations=[\n",
    "        dict(\n",
    "            showarrow=False,\n",
    "            text=\"Interactive 3D visualization of GraphML data\",\n",
    "            xref=\"paper\",\n",
    "            yref=\"paper\",\n",
    "            x=0,\n",
    "            y=0\n",
    "        )\n",
    "    ]\n",
    ")\n",
    "# show the plot\n",
    "fig.show()"
   ]
  }
 ],
 "metadata": {
  "kernelspec": {
   "display_name": "tamu-chatbot",
   "language": "python",
   "name": "python3"
  },
  "language_info": {
   "codemirror_mode": {
    "name": "ipython",
    "version": 3
   },
   "file_extension": ".py",
   "mimetype": "text/x-python",
   "name": "python",
   "nbconvert_exporter": "python",
   "pygments_lexer": "ipython3",
   "version": "3.11.5"
  }
 },
 "nbformat": 4,
 "nbformat_minor": 2
}
